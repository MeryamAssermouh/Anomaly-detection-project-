{
 "cells": [
  {
   "cell_type": "markdown",
   "id": "9beb82da",
   "metadata": {},
   "source": [
    "# Anomaly detection 1"
   ]
  },
  {
   "cell_type": "markdown",
   "id": "c8d65483",
   "metadata": {},
   "source": [
    "In this notebook we are going to perform anomaly detection on the dataset data_clean.xlsx using : Z-score, iForest, OneClassSVM and DBSCAN. We are going to detect anomalies for each mediaType separately and based on the \"data\" column alone"
   ]
  },
  {
   "cell_type": "code",
   "execution_count": 1,
   "id": "b4d0163e",
   "metadata": {},
   "outputs": [],
   "source": [
    "#Import necessary libraries\n",
    "\n",
    "import warnings\n",
    "warnings.filterwarnings(\"ignore\")\n",
    "import pandas as pd\n",
    "import numpy as np\n",
    "import matplotlib.pyplot as plt\n",
    "from scipy.spatial import distance\n",
    "from sklearn.ensemble import IsolationForest\n",
    "from numpy import where\n",
    "from sklearn.svm import OneClassSVM\n",
    "from sklearn.cluster import DBSCAN"
   ]
  },
  {
   "cell_type": "code",
   "execution_count": 2,
   "id": "8c5ee5f2",
   "metadata": {},
   "outputs": [],
   "source": [
    "#Load data\n",
    "\n",
    "file_name = \".\\\\data_clean.xlsx\"\n",
    "xl_file = pd.ExcelFile(file_name,engine = 'openpyxl')\n",
    "df = xl_file.parse('Sheet1')"
   ]
  },
  {
   "cell_type": "markdown",
   "id": "a31d8258",
   "metadata": {},
   "source": [
    "## Data preprocessing "
   ]
  },
  {
   "cell_type": "code",
   "execution_count": 3,
   "id": "5d4b5afe",
   "metadata": {},
   "outputs": [],
   "source": [
    "## Null values \n",
    "\n",
    "df_null = df[df['data'].isnull()]\n",
    "df.dropna(subset=['data'], inplace=True)"
   ]
  },
  {
   "cell_type": "code",
   "execution_count": 4,
   "id": "3739f2af",
   "metadata": {
    "scrolled": true
   },
   "outputs": [
    {
     "name": "stdout",
     "output_type": "stream",
     "text": [
      "the percentage of missing data :  2.37 %\n"
     ]
    }
   ],
   "source": [
    "print('the percentage of missing data : ', round((len(df_null)/len(df))*100,2),'%')"
   ]
  },
  {
   "cell_type": "code",
   "execution_count": 5,
   "id": "8c7d0693",
   "metadata": {},
   "outputs": [
    {
     "name": "stdout",
     "output_type": "stream",
     "text": [
      "the number of locations with missing data :  20\n",
      "the number of mediaTypes with missing data :  8\n",
      "the number of meterIds with missing data :  95\n"
     ]
    }
   ],
   "source": [
    "print('the number of locations with missing data : ',len(list(df_null.Location_.unique())))\n",
    "print('the number of mediaTypes with missing data : ',len(list(df_null.mediaType.unique())))\n",
    "#print(list(anomalies.meterId.unique()))\n",
    "print('the number of meterIds with missing data : ',len(list(df_null.meterId.unique())))\n",
    "# print(anomalies['Location_'].value_counts())"
   ]
  },
  {
   "cell_type": "code",
   "execution_count": 6,
   "id": "2adf64cb",
   "metadata": {},
   "outputs": [],
   "source": [
    "# df.isna().sum()"
   ]
  },
  {
   "cell_type": "code",
   "execution_count": 7,
   "id": "2ecf6c7a",
   "metadata": {},
   "outputs": [
    {
     "name": "stdout",
     "output_type": "stream",
     "text": [
      "The different units are : \n",
      "['kWh', 'm³', 'kW', 'kVArh', 'GJ']\n"
     ]
    }
   ],
   "source": [
    "##Handling units\n",
    "\n",
    "# We are going to convert everything that is MWh to KWh and  Nm³ , CCF , l, kl to m³\n",
    "\n",
    "df['unit']=df['unit'].astype('string')\n",
    "\n",
    "#df2 = df\n",
    "#print(len(df2[df2['unit']=='MWh']))\n",
    "for i, row in df.iterrows():\n",
    "    # 1MWh = 1000KWh\n",
    "    if row['unit'] == 'MWh':\n",
    "        df.at[i, 'data'] = row['data']*1000\n",
    "        df.at[i, 'unit'] = 'kWh'\n",
    "\n",
    "    #we will consider that we work in stadard condition (T=273.15K et P=101325 Pa) and 1Nm³ = 1m³\n",
    "    if row['unit'] == 'Nm³':\n",
    "        df.at[i, 'unit'] = 'm³'\n",
    "\n",
    "    # 1CCF = 2,83m³\n",
    "    if row['unit'] == 'CCF':\n",
    "        df.at[i, 'data'] = row['data']*2.83\n",
    "        df.at[i, 'unit'] = 'm³'    \n",
    "\n",
    "    # 1l = 0.001m³\n",
    "    if row['unit'] == 'l':\n",
    "        df.at[i, 'data'] = row['data']*0.001\n",
    "        df.at[i, 'unit'] = 'm³'\n",
    "\n",
    "    #1kl = 1m³\n",
    "    if row['unit'] == 'kl':\n",
    "        df.at[i, 'unit'] = 'm³'\n",
    "\n",
    "    #1ft³ = 0,0283m³\n",
    "    if row['unit'] == 'ft³':\n",
    "        df.at[i, 'data'] = row['data']*0.0283\n",
    "        df.at[i, 'unit'] = 'm³'\n",
    "\n",
    "    #1therm = 2,851m³\n",
    "    if row['unit'] == 'therm':\n",
    "        df.at[i, 'data'] = row['data']*2.851\n",
    "        df.at[i, 'unit'] = 'm³'\n",
    "\n",
    "print(\"The different units are : \")        \n",
    "print(list(df.unit.unique()))"
   ]
  },
  {
   "cell_type": "code",
   "execution_count": 9,
   "id": "23e073ed",
   "metadata": {},
   "outputs": [
    {
     "name": "stdout",
     "output_type": "stream",
     "text": [
      "list of media types : \n"
     ]
    },
    {
     "data": {
      "text/plain": [
       "['Electricity',\n",
       " 'Heating',\n",
       " 'ColdWater',\n",
       " 'WS_Brunnenwasser',\n",
       " 'Electricity1',\n",
       " 'Electricity2',\n",
       " 'Power',\n",
       " 'WS_Blindstrom',\n",
       " 'ElectricityGenEmergency',\n",
       " 'ElectricityGenPV',\n",
       " 'NGas',\n",
       " 'GeneralElectricity',\n",
       " 'DistrictHeating',\n",
       " 'Cooling',\n",
       " 'ElectricityGenCHP',\n",
       " 'HeatGenCHP',\n",
       " 'IntervalGas',\n",
       " 'ColdGenerated',\n",
       " 'ElectricitySupplyPV',\n",
       " 'Diesel']"
      ]
     },
     "execution_count": 9,
     "metadata": {},
     "output_type": "execute_result"
    }
   ],
   "source": [
    "## the list of mediaTypes\n",
    "print('list of media types : ')\n",
    "list(df.mediaType.unique())"
   ]
  },
  {
   "cell_type": "markdown",
   "id": "57900988",
   "metadata": {},
   "source": [
    "## 1 - Anomaly detection using statistics based approach\n",
    "\n",
    "This method is based on the calculation of the Z-score; the z-score measures how far a data point is away from the mean as a signed multiple of the standard deviation. Large absolute values of the Z-score suggest an anomaly"
   ]
  },
  {
   "cell_type": "code",
   "execution_count": 10,
   "id": "f4d96703",
   "metadata": {},
   "outputs": [],
   "source": [
    "groups = df.groupby(['mediaType'])"
   ]
  },
  {
   "cell_type": "code",
   "execution_count": 11,
   "id": "5f56f3fd",
   "metadata": {},
   "outputs": [
    {
     "data": {
      "image/png": "[encoded data removed]",
      "text/plain": [
       "<Figure size 432x288 with 1 Axes>"
      ]
     },
     "metadata": {
      "needs_background": "light"
     },
     "output_type": "display_data"
    }
   ],
   "source": [
    "## Choose mediaType\n",
    "\n",
    "mediaType = 'Electricity'\n",
    "\n",
    "# Isolating data points that corrspond to the specified metiaType\n",
    "\n",
    "group = groups.get_group(mediaType)\n",
    "group = group.reset_index(drop=True)\n",
    "\n",
    "# calculating and ploting the Z-score\n",
    "\n",
    "X = group['data'].to_numpy()\n",
    "distances = []\n",
    "std = np.std(X)\n",
    "mean = np.mean(X)\n",
    "\n",
    "for e in X :\n",
    "    d = abs(e-mean)/std\n",
    "    distances.append(d)\n",
    "    \n",
    "plt.plot(distances,'ro')\n",
    "plt.title(\"Distances of data points from the mean\",fontsize = 15)\n",
    "\n",
    "# Separating the anomalies\n",
    "\n",
    "idxs = []\n",
    "\n",
    "for i, element in enumerate(distances) :\n",
    "    if element > 3 :\n",
    "        idxs.append(i)\n",
    "        \n",
    "anomalies = group.filter(items = idxs, axis=0)\n",
    "anomalies = anomalies.reset_index(drop=True)"
   ]
  },
  {
   "cell_type": "code",
   "execution_count": 12,
   "id": "01807fb4",
   "metadata": {},
   "outputs": [
    {
     "name": "stdout",
     "output_type": "stream",
     "text": [
      "the percentage of anomalies :  0.07 %\n"
     ]
    }
   ],
   "source": [
    "print('the percentage of anomalies : ', round((len(anomalies)/len(group))*100,2),'%')"
   ]
  },
  {
   "cell_type": "code",
   "execution_count": 13,
   "id": "6820f30a",
   "metadata": {
    "scrolled": false
   },
   "outputs": [
    {
     "name": "stdout",
     "output_type": "stream",
     "text": [
      "***The table of anomalies***\n"
     ]
    },
    {
     "data": {
      "text/html": [
       "<div>\n",
       "<style scoped>\n",
       "    .dataframe tbody tr th:only-of-type {\n",
       "        vertical-align: middle;\n",
       "    }\n",
       "\n",
       "    .dataframe tbody tr th {\n",
       "        vertical-align: top;\n",
       "    }\n",
       "\n",
       "    .dataframe thead th {\n",
       "        text-align: right;\n",
       "    }\n",
       "</style>\n",
       "<table border=\"1\" class=\"dataframe\">\n",
       "  <thead>\n",
       "    <tr style=\"text-align: right;\">\n",
       "      <th></th>\n",
       "      <th>date</th>\n",
       "      <th>meterId</th>\n",
       "      <th>Country</th>\n",
       "      <th>mediaType</th>\n",
       "      <th>data</th>\n",
       "      <th>unit</th>\n",
       "      <th>Location_</th>\n",
       "      <th>meterType</th>\n",
       "    </tr>\n",
       "  </thead>\n",
       "  <tbody>\n",
       "    <tr>\n",
       "      <th>0</th>\n",
       "      <td>2020-08-10</td>\n",
       "      <td>1263078</td>\n",
       "      <td>Portugal</td>\n",
       "      <td>Electricity</td>\n",
       "      <td>420347.39</td>\n",
       "      <td>kWh</td>\n",
       "      <td>Portugal</td>\n",
       "      <td>Sub 2</td>\n",
       "    </tr>\n",
       "    <tr>\n",
       "      <th>1</th>\n",
       "      <td>2021-07-10</td>\n",
       "      <td>2401061</td>\n",
       "      <td>India</td>\n",
       "      <td>Electricity</td>\n",
       "      <td>2843070.00</td>\n",
       "      <td>kWh</td>\n",
       "      <td>India kalwa</td>\n",
       "      <td>Submeter</td>\n",
       "    </tr>\n",
       "    <tr>\n",
       "      <th>2</th>\n",
       "      <td>2021-07-10</td>\n",
       "      <td>2407797</td>\n",
       "      <td>India</td>\n",
       "      <td>Electricity</td>\n",
       "      <td>3125370.00</td>\n",
       "      <td>kWh</td>\n",
       "      <td>India kalwa</td>\n",
       "      <td>Submeter</td>\n",
       "    </tr>\n",
       "    <tr>\n",
       "      <th>3</th>\n",
       "      <td>2021-10-10</td>\n",
       "      <td>2407797</td>\n",
       "      <td>India</td>\n",
       "      <td>Electricity</td>\n",
       "      <td>3225090.00</td>\n",
       "      <td>kWh</td>\n",
       "      <td>India kalwa</td>\n",
       "      <td>Submeter</td>\n",
       "    </tr>\n",
       "    <tr>\n",
       "      <th>4</th>\n",
       "      <td>2021-11-01</td>\n",
       "      <td>2407797</td>\n",
       "      <td>India</td>\n",
       "      <td>Electricity</td>\n",
       "      <td>3225100.00</td>\n",
       "      <td>kWh</td>\n",
       "      <td>India kalwa</td>\n",
       "      <td>Submeter</td>\n",
       "    </tr>\n",
       "    <tr>\n",
       "      <th>...</th>\n",
       "      <td>...</td>\n",
       "      <td>...</td>\n",
       "      <td>...</td>\n",
       "      <td>...</td>\n",
       "      <td>...</td>\n",
       "      <td>...</td>\n",
       "      <td>...</td>\n",
       "      <td>...</td>\n",
       "    </tr>\n",
       "    <tr>\n",
       "      <th>130</th>\n",
       "      <td>2021-11-23</td>\n",
       "      <td>6160580</td>\n",
       "      <td>India</td>\n",
       "      <td>Electricity</td>\n",
       "      <td>-545521.40</td>\n",
       "      <td>kWh</td>\n",
       "      <td>India kalwa</td>\n",
       "      <td>Submeter</td>\n",
       "    </tr>\n",
       "    <tr>\n",
       "      <th>131</th>\n",
       "      <td>2021-12-01</td>\n",
       "      <td>6160580</td>\n",
       "      <td>India</td>\n",
       "      <td>Electricity</td>\n",
       "      <td>-788343.25</td>\n",
       "      <td>kWh</td>\n",
       "      <td>India kalwa</td>\n",
       "      <td>Submeter</td>\n",
       "    </tr>\n",
       "    <tr>\n",
       "      <th>132</th>\n",
       "      <td>2021-12-15</td>\n",
       "      <td>6160580</td>\n",
       "      <td>India</td>\n",
       "      <td>Electricity</td>\n",
       "      <td>548301.49</td>\n",
       "      <td>kWh</td>\n",
       "      <td>India kalwa</td>\n",
       "      <td>Submeter</td>\n",
       "    </tr>\n",
       "    <tr>\n",
       "      <th>133</th>\n",
       "      <td>2021-12-24</td>\n",
       "      <td>6160580</td>\n",
       "      <td>India</td>\n",
       "      <td>Electricity</td>\n",
       "      <td>-536058.60</td>\n",
       "      <td>kWh</td>\n",
       "      <td>India kalwa</td>\n",
       "      <td>Submeter</td>\n",
       "    </tr>\n",
       "    <tr>\n",
       "      <th>134</th>\n",
       "      <td>2021-12-30</td>\n",
       "      <td>6794886</td>\n",
       "      <td>India</td>\n",
       "      <td>Electricity</td>\n",
       "      <td>-576727.00</td>\n",
       "      <td>kWh</td>\n",
       "      <td>India kalwa</td>\n",
       "      <td>Submeter</td>\n",
       "    </tr>\n",
       "  </tbody>\n",
       "</table>\n",
       "<p>135 rows × 8 columns</p>\n",
       "</div>"
      ],
      "text/plain": [
       "          date  meterId    Country    mediaType        data unit    Location_  \\\n",
       "0   2020-08-10  1263078  Portugal   Electricity   420347.39  kWh     Portugal   \n",
       "1   2021-07-10  2401061     India   Electricity  2843070.00  kWh  India kalwa   \n",
       "2   2021-07-10  2407797     India   Electricity  3125370.00  kWh  India kalwa   \n",
       "3   2021-10-10  2407797     India   Electricity  3225090.00  kWh  India kalwa   \n",
       "4   2021-11-01  2407797     India   Electricity  3225100.00  kWh  India kalwa   \n",
       "..         ...      ...        ...          ...         ...  ...          ...   \n",
       "130 2021-11-23  6160580     India   Electricity  -545521.40  kWh  India kalwa   \n",
       "131 2021-12-01  6160580     India   Electricity  -788343.25  kWh  India kalwa   \n",
       "132 2021-12-15  6160580     India   Electricity   548301.49  kWh  India kalwa   \n",
       "133 2021-12-24  6160580     India   Electricity  -536058.60  kWh  India kalwa   \n",
       "134 2021-12-30  6794886     India   Electricity  -576727.00  kWh  India kalwa   \n",
       "\n",
       "    meterType  \n",
       "0       Sub 2  \n",
       "1    Submeter  \n",
       "2    Submeter  \n",
       "3    Submeter  \n",
       "4    Submeter  \n",
       "..        ...  \n",
       "130  Submeter  \n",
       "131  Submeter  \n",
       "132  Submeter  \n",
       "133  Submeter  \n",
       "134  Submeter  \n",
       "\n",
       "[135 rows x 8 columns]"
      ]
     },
     "metadata": {},
     "output_type": "display_data"
    }
   ],
   "source": [
    "print (\"***The table of anomalies***\")\n",
    "display(anomalies)"
   ]
  },
  {
   "cell_type": "code",
   "execution_count": 16,
   "id": "3665bbdc",
   "metadata": {},
   "outputs": [
    {
     "name": "stdout",
     "output_type": "stream",
     "text": [
      "the number of meterIds :  34 \n",
      "\n",
      "locations with anomalies : \n",
      "\n",
      "India kalwa    129\n",
      "Portugal         4\n",
      "India GU         2\n",
      "Name: Location_, dtype: int64\n"
     ]
    }
   ],
   "source": [
    "\n",
    "print('the number of meterIds : ',anomalies.meterId.nunique(),'\\n')\n",
    "print('locations with anomalies : \\n')\n",
    "print(anomalies['Location_'].value_counts())"
   ]
  },
  {
   "cell_type": "code",
   "execution_count": 17,
   "id": "ee6a5fe8",
   "metadata": {},
   "outputs": [
    {
     "name": "stdout",
     "output_type": "stream",
     "text": [
      "locations with anomalies and their percentage : \n",
      "\n",
      "Index(['India kalwa', 'Portugal', 'India GU'], dtype='object') \n",
      "\n",
      "[95.55555556  2.96296296  1.48148148]\n"
     ]
    }
   ],
   "source": [
    "print('locations with anomalies and their percentage : \\n')\n",
    "print(anomalies['Location_'].value_counts().index,'\\n')\n",
    "print(np.round(anomalies['Location_'].value_counts().to_numpy()*100,2)/len(anomalies))"
   ]
  },
  {
   "cell_type": "markdown",
   "id": "7e413598",
   "metadata": {},
   "source": [
    "## 2 - Anomaly detection using Isolation Forest\n",
    "\n",
    "- This algorithm requires a parameter called “contamination” that refers to the fraction of anomalies estimated in the data, we are going to estimate this parameter based on the results of the previous method \n",
    "- The other hyperparameters of the used model : n_estimators=50, max_samples='auto', max_features=1.0,random_state=42\n"
   ]
  },
  {
   "cell_type": "code",
   "execution_count": 18,
   "id": "6727ba85",
   "metadata": {},
   "outputs": [],
   "source": [
    "## Estimating the contamination coefficient using the results of the previous method\n",
    "\n",
    "anomaly_percentage = [0.0007,0.0266,0.0001,0.0382,0.0001,0.0001,0.0004,0.0001,0.0031,0.0023,0.0016,0.0003,0.0011,0.0109,0,0,0.0001,0.0339,0.0342,0.0001]\n",
    "\n",
    "mediaTypes = list(df.mediaType.unique())\n"
   ]
  },
  {
   "cell_type": "code",
   "execution_count": 19,
   "id": "5714ea92",
   "metadata": {
    "scrolled": false
   },
   "outputs": [
    {
     "name": "stdout",
     "output_type": "stream",
     "text": [
      "***The table of anomalies***\n"
     ]
    },
    {
     "data": {
      "text/html": [
       "<div>\n",
       "<style scoped>\n",
       "    .dataframe tbody tr th:only-of-type {\n",
       "        vertical-align: middle;\n",
       "    }\n",
       "\n",
       "    .dataframe tbody tr th {\n",
       "        vertical-align: top;\n",
       "    }\n",
       "\n",
       "    .dataframe thead th {\n",
       "        text-align: right;\n",
       "    }\n",
       "</style>\n",
       "<table border=\"1\" class=\"dataframe\">\n",
       "  <thead>\n",
       "    <tr style=\"text-align: right;\">\n",
       "      <th></th>\n",
       "      <th>date</th>\n",
       "      <th>meterId</th>\n",
       "      <th>Country</th>\n",
       "      <th>mediaType</th>\n",
       "      <th>data</th>\n",
       "      <th>unit</th>\n",
       "      <th>Location_</th>\n",
       "      <th>meterType</th>\n",
       "    </tr>\n",
       "  </thead>\n",
       "  <tbody>\n",
       "    <tr>\n",
       "      <th>0</th>\n",
       "      <td>2020-08-10</td>\n",
       "      <td>1263078</td>\n",
       "      <td>Portugal</td>\n",
       "      <td>Electricity</td>\n",
       "      <td>420347.39</td>\n",
       "      <td>kWh</td>\n",
       "      <td>Portugal</td>\n",
       "      <td>Sub 2</td>\n",
       "    </tr>\n",
       "    <tr>\n",
       "      <th>1</th>\n",
       "      <td>2021-07-10</td>\n",
       "      <td>2401061</td>\n",
       "      <td>India</td>\n",
       "      <td>Electricity</td>\n",
       "      <td>2843070.00</td>\n",
       "      <td>kWh</td>\n",
       "      <td>India kalwa</td>\n",
       "      <td>Submeter</td>\n",
       "    </tr>\n",
       "    <tr>\n",
       "      <th>2</th>\n",
       "      <td>2021-07-10</td>\n",
       "      <td>2407795</td>\n",
       "      <td>India</td>\n",
       "      <td>Electricity</td>\n",
       "      <td>172710.00</td>\n",
       "      <td>kWh</td>\n",
       "      <td>India kalwa</td>\n",
       "      <td>Submeter</td>\n",
       "    </tr>\n",
       "    <tr>\n",
       "      <th>3</th>\n",
       "      <td>2021-12-12</td>\n",
       "      <td>2407795</td>\n",
       "      <td>India</td>\n",
       "      <td>Electricity</td>\n",
       "      <td>248410.00</td>\n",
       "      <td>kWh</td>\n",
       "      <td>India kalwa</td>\n",
       "      <td>Submeter</td>\n",
       "    </tr>\n",
       "    <tr>\n",
       "      <th>4</th>\n",
       "      <td>2021-07-10</td>\n",
       "      <td>2407797</td>\n",
       "      <td>India</td>\n",
       "      <td>Electricity</td>\n",
       "      <td>3125370.00</td>\n",
       "      <td>kWh</td>\n",
       "      <td>India kalwa</td>\n",
       "      <td>Submeter</td>\n",
       "    </tr>\n",
       "    <tr>\n",
       "      <th>...</th>\n",
       "      <td>...</td>\n",
       "      <td>...</td>\n",
       "      <td>...</td>\n",
       "      <td>...</td>\n",
       "      <td>...</td>\n",
       "      <td>...</td>\n",
       "      <td>...</td>\n",
       "      <td>...</td>\n",
       "    </tr>\n",
       "    <tr>\n",
       "      <th>118</th>\n",
       "      <td>2021-12-01</td>\n",
       "      <td>5867412</td>\n",
       "      <td>India</td>\n",
       "      <td>Electricity</td>\n",
       "      <td>180465.41</td>\n",
       "      <td>kWh</td>\n",
       "      <td>India kalwa</td>\n",
       "      <td>Submeter</td>\n",
       "    </tr>\n",
       "    <tr>\n",
       "      <th>119</th>\n",
       "      <td>2021-12-24</td>\n",
       "      <td>5867412</td>\n",
       "      <td>India</td>\n",
       "      <td>Electricity</td>\n",
       "      <td>183252.86</td>\n",
       "      <td>kWh</td>\n",
       "      <td>India kalwa</td>\n",
       "      <td>Submeter</td>\n",
       "    </tr>\n",
       "    <tr>\n",
       "      <th>120</th>\n",
       "      <td>2021-12-15</td>\n",
       "      <td>6160580</td>\n",
       "      <td>India</td>\n",
       "      <td>Electricity</td>\n",
       "      <td>548301.49</td>\n",
       "      <td>kWh</td>\n",
       "      <td>India kalwa</td>\n",
       "      <td>Submeter</td>\n",
       "    </tr>\n",
       "    <tr>\n",
       "      <th>121</th>\n",
       "      <td>2021-12-24</td>\n",
       "      <td>6181237</td>\n",
       "      <td>India</td>\n",
       "      <td>Electricity</td>\n",
       "      <td>258134.43</td>\n",
       "      <td>kWh</td>\n",
       "      <td>India kalwa</td>\n",
       "      <td>Submeter</td>\n",
       "    </tr>\n",
       "    <tr>\n",
       "      <th>122</th>\n",
       "      <td>2021-12-30</td>\n",
       "      <td>6794885</td>\n",
       "      <td>India</td>\n",
       "      <td>Electricity</td>\n",
       "      <td>210480.00</td>\n",
       "      <td>kWh</td>\n",
       "      <td>India kalwa</td>\n",
       "      <td>Submeter</td>\n",
       "    </tr>\n",
       "  </tbody>\n",
       "</table>\n",
       "<p>123 rows × 8 columns</p>\n",
       "</div>"
      ],
      "text/plain": [
       "          date  meterId    Country    mediaType        data unit    Location_  \\\n",
       "0   2020-08-10  1263078  Portugal   Electricity   420347.39  kWh     Portugal   \n",
       "1   2021-07-10  2401061     India   Electricity  2843070.00  kWh  India kalwa   \n",
       "2   2021-07-10  2407795     India   Electricity   172710.00  kWh  India kalwa   \n",
       "3   2021-12-12  2407795     India   Electricity   248410.00  kWh  India kalwa   \n",
       "4   2021-07-10  2407797     India   Electricity  3125370.00  kWh  India kalwa   \n",
       "..         ...      ...        ...          ...         ...  ...          ...   \n",
       "118 2021-12-01  5867412     India   Electricity   180465.41  kWh  India kalwa   \n",
       "119 2021-12-24  5867412     India   Electricity   183252.86  kWh  India kalwa   \n",
       "120 2021-12-15  6160580     India   Electricity   548301.49  kWh  India kalwa   \n",
       "121 2021-12-24  6181237     India   Electricity   258134.43  kWh  India kalwa   \n",
       "122 2021-12-30  6794885     India   Electricity   210480.00  kWh  India kalwa   \n",
       "\n",
       "    meterType  \n",
       "0       Sub 2  \n",
       "1    Submeter  \n",
       "2    Submeter  \n",
       "3    Submeter  \n",
       "4    Submeter  \n",
       "..        ...  \n",
       "118  Submeter  \n",
       "119  Submeter  \n",
       "120  Submeter  \n",
       "121  Submeter  \n",
       "122  Submeter  \n",
       "\n",
       "[123 rows x 8 columns]"
      ]
     },
     "metadata": {},
     "output_type": "display_data"
    }
   ],
   "source": [
    "## Choose mediaType\n",
    "\n",
    "mediaType = 'Electricity'\n",
    "\n",
    "# Isolating data points that corrspond to the specified metiaType\n",
    "\n",
    "group = groups.get_group(mediaType)\n",
    "group = group.reset_index(drop=True)\n",
    "\n",
    "# calculating and ploting the Z-score\n",
    "\n",
    "X = group['data'].to_numpy()\n",
    "X = X.reshape(-1, 1)\n",
    "c = anomaly_percentage[mediaTypes.index(mediaType)]\n",
    "\n",
    "model=IsolationForest(n_estimators=50, max_samples='auto', contamination=float(c),max_features=1.0,random_state=42)\n",
    "pred = model.fit_predict(X)\n",
    "idxs = []\n",
    "\n",
    "for i, e in enumerate(pred):\n",
    "    if e == -1 :\n",
    "        idxs.append(i)\n",
    "\n",
    "anomalies = group.filter(items = idxs, axis=0)\n",
    "anomalies = anomalies.reset_index(drop=True)\n",
    "print (\"***The table of anomalies***\")\n",
    "display(anomalies)"
   ]
  },
  {
   "cell_type": "code",
   "execution_count": 20,
   "id": "75e6c38a",
   "metadata": {},
   "outputs": [
    {
     "name": "stdout",
     "output_type": "stream",
     "text": [
      "the percentage of anomalies :  0.07 %\n"
     ]
    }
   ],
   "source": [
    "print('the percentage of anomalies : ', round((len(anomalies)/len(group))*100,2),'%')"
   ]
  },
  {
   "cell_type": "code",
   "execution_count": 22,
   "id": "cb0e2617",
   "metadata": {},
   "outputs": [
    {
     "name": "stdout",
     "output_type": "stream",
     "text": [
      "the number of meterIds :  34 \n",
      "\n",
      "locations with anomalies : \n",
      "\n",
      "India kalwa        118\n",
      "Portugal             2\n",
      "India GU             2\n",
      "Switzerland Zug      1\n",
      "Name: Location_, dtype: int64\n"
     ]
    }
   ],
   "source": [
    "print('the number of meterIds : ',anomalies.meterId.nunique(),'\\n')\n",
    "print('locations with anomalies : \\n')\n",
    "print(anomalies['Location_'].value_counts())"
   ]
  },
  {
   "cell_type": "code",
   "execution_count": 23,
   "id": "b27bea8b",
   "metadata": {},
   "outputs": [
    {
     "name": "stdout",
     "output_type": "stream",
     "text": [
      "locations with anomalies and their percentage : \n",
      "\n",
      "Index(['India kalwa', 'Portugal', 'India GU', 'Switzerland Zug'], dtype='object') \n",
      "\n",
      "[95.93495935  1.62601626  1.62601626  0.81300813]\n"
     ]
    }
   ],
   "source": [
    "print('locations with anomalies and their percentage : \\n')\n",
    "print(anomalies['Location_'].value_counts().index,'\\n')\n",
    "print(np.round(anomalies['Location_'].value_counts().to_numpy()*100,2)/len(anomalies))"
   ]
  },
  {
   "cell_type": "markdown",
   "id": "d404c820",
   "metadata": {},
   "source": [
    "## 2 - Anomaly detection using One Class SVM\n",
    "\n",
    "- This algorithm requires a parameter “nu” that specifies an approximation ratio of the outliers in the dataset, we are going to estimate this parameter in the same way we did for the “contamination”\n",
    "- The other hyperparameters of the used model are the default ones\n"
   ]
  },
  {
   "cell_type": "code",
   "execution_count": 24,
   "id": "32a7eb44",
   "metadata": {
    "scrolled": false
   },
   "outputs": [
    {
     "name": "stdout",
     "output_type": "stream",
     "text": [
      "***The table of anomalies***\n"
     ]
    },
    {
     "data": {
      "text/html": [
       "<div>\n",
       "<style scoped>\n",
       "    .dataframe tbody tr th:only-of-type {\n",
       "        vertical-align: middle;\n",
       "    }\n",
       "\n",
       "    .dataframe tbody tr th {\n",
       "        vertical-align: top;\n",
       "    }\n",
       "\n",
       "    .dataframe thead th {\n",
       "        text-align: right;\n",
       "    }\n",
       "</style>\n",
       "<table border=\"1\" class=\"dataframe\">\n",
       "  <thead>\n",
       "    <tr style=\"text-align: right;\">\n",
       "      <th></th>\n",
       "      <th>date</th>\n",
       "      <th>meterId</th>\n",
       "      <th>Country</th>\n",
       "      <th>mediaType</th>\n",
       "      <th>data</th>\n",
       "      <th>unit</th>\n",
       "      <th>Location_</th>\n",
       "      <th>meterType</th>\n",
       "    </tr>\n",
       "  </thead>\n",
       "  <tbody>\n",
       "    <tr>\n",
       "      <th>0</th>\n",
       "      <td>2022-04-01</td>\n",
       "      <td>6437924</td>\n",
       "      <td>India</td>\n",
       "      <td>Diesel</td>\n",
       "      <td>0.01</td>\n",
       "      <td>m³</td>\n",
       "      <td>India BL</td>\n",
       "      <td>Main meter</td>\n",
       "    </tr>\n",
       "    <tr>\n",
       "      <th>1</th>\n",
       "      <td>2022-04-02</td>\n",
       "      <td>6437924</td>\n",
       "      <td>India</td>\n",
       "      <td>Diesel</td>\n",
       "      <td>0.01</td>\n",
       "      <td>m³</td>\n",
       "      <td>India BL</td>\n",
       "      <td>Main meter</td>\n",
       "    </tr>\n",
       "    <tr>\n",
       "      <th>2</th>\n",
       "      <td>2022-04-03</td>\n",
       "      <td>6437924</td>\n",
       "      <td>India</td>\n",
       "      <td>Diesel</td>\n",
       "      <td>0.01</td>\n",
       "      <td>m³</td>\n",
       "      <td>India BL</td>\n",
       "      <td>Main meter</td>\n",
       "    </tr>\n",
       "    <tr>\n",
       "      <th>3</th>\n",
       "      <td>2022-04-04</td>\n",
       "      <td>6437924</td>\n",
       "      <td>India</td>\n",
       "      <td>Diesel</td>\n",
       "      <td>0.01</td>\n",
       "      <td>m³</td>\n",
       "      <td>India BL</td>\n",
       "      <td>Main meter</td>\n",
       "    </tr>\n",
       "    <tr>\n",
       "      <th>4</th>\n",
       "      <td>2022-04-05</td>\n",
       "      <td>6437924</td>\n",
       "      <td>India</td>\n",
       "      <td>Diesel</td>\n",
       "      <td>0.01</td>\n",
       "      <td>m³</td>\n",
       "      <td>India BL</td>\n",
       "      <td>Main meter</td>\n",
       "    </tr>\n",
       "    <tr>\n",
       "      <th>...</th>\n",
       "      <td>...</td>\n",
       "      <td>...</td>\n",
       "      <td>...</td>\n",
       "      <td>...</td>\n",
       "      <td>...</td>\n",
       "      <td>...</td>\n",
       "      <td>...</td>\n",
       "      <td>...</td>\n",
       "    </tr>\n",
       "    <tr>\n",
       "      <th>117</th>\n",
       "      <td>2022-04-26</td>\n",
       "      <td>6558104</td>\n",
       "      <td>India</td>\n",
       "      <td>Diesel</td>\n",
       "      <td>14.17</td>\n",
       "      <td>m³</td>\n",
       "      <td>India kalwa</td>\n",
       "      <td>Main meter</td>\n",
       "    </tr>\n",
       "    <tr>\n",
       "      <th>118</th>\n",
       "      <td>2022-04-27</td>\n",
       "      <td>6558104</td>\n",
       "      <td>India</td>\n",
       "      <td>Diesel</td>\n",
       "      <td>14.17</td>\n",
       "      <td>m³</td>\n",
       "      <td>India kalwa</td>\n",
       "      <td>Main meter</td>\n",
       "    </tr>\n",
       "    <tr>\n",
       "      <th>119</th>\n",
       "      <td>2022-04-28</td>\n",
       "      <td>6558104</td>\n",
       "      <td>India</td>\n",
       "      <td>Diesel</td>\n",
       "      <td>14.17</td>\n",
       "      <td>m³</td>\n",
       "      <td>India kalwa</td>\n",
       "      <td>Main meter</td>\n",
       "    </tr>\n",
       "    <tr>\n",
       "      <th>120</th>\n",
       "      <td>2022-04-29</td>\n",
       "      <td>6558104</td>\n",
       "      <td>India</td>\n",
       "      <td>Diesel</td>\n",
       "      <td>14.17</td>\n",
       "      <td>m³</td>\n",
       "      <td>India kalwa</td>\n",
       "      <td>Main meter</td>\n",
       "    </tr>\n",
       "    <tr>\n",
       "      <th>121</th>\n",
       "      <td>2022-04-30</td>\n",
       "      <td>6558104</td>\n",
       "      <td>India</td>\n",
       "      <td>Diesel</td>\n",
       "      <td>14.17</td>\n",
       "      <td>m³</td>\n",
       "      <td>India kalwa</td>\n",
       "      <td>Main meter</td>\n",
       "    </tr>\n",
       "  </tbody>\n",
       "</table>\n",
       "<p>122 rows × 8 columns</p>\n",
       "</div>"
      ],
      "text/plain": [
       "          date  meterId Country mediaType   data unit    Location_   meterType\n",
       "0   2022-04-01  6437924  India     Diesel   0.01   m³     India BL  Main meter\n",
       "1   2022-04-02  6437924  India     Diesel   0.01   m³     India BL  Main meter\n",
       "2   2022-04-03  6437924  India     Diesel   0.01   m³     India BL  Main meter\n",
       "3   2022-04-04  6437924  India     Diesel   0.01   m³     India BL  Main meter\n",
       "4   2022-04-05  6437924  India     Diesel   0.01   m³     India BL  Main meter\n",
       "..         ...      ...     ...       ...    ...  ...          ...         ...\n",
       "117 2022-04-26  6558104  India     Diesel  14.17   m³  India kalwa  Main meter\n",
       "118 2022-04-27  6558104  India     Diesel  14.17   m³  India kalwa  Main meter\n",
       "119 2022-04-28  6558104  India     Diesel  14.17   m³  India kalwa  Main meter\n",
       "120 2022-04-29  6558104  India     Diesel  14.17   m³  India kalwa  Main meter\n",
       "121 2022-04-30  6558104  India     Diesel  14.17   m³  India kalwa  Main meter\n",
       "\n",
       "[122 rows x 8 columns]"
      ]
     },
     "metadata": {},
     "output_type": "display_data"
    }
   ],
   "source": [
    "## Choose mediaType\n",
    "\n",
    "mediaType = 'Diesel'\n",
    "\n",
    "# Isolating data points that corrspond to the specified metiaType\n",
    "\n",
    "group = groups.get_group(mediaType)\n",
    "group = group.reset_index(drop=True)\n",
    "\n",
    "# calculating and ploting the Z-score\n",
    "\n",
    "X = group['data'].to_numpy()\n",
    "X = X.reshape(-1, 1)\n",
    "c = anomaly_percentage[mediaTypes.index(mediaType)]\n",
    "\n",
    "model = OneClassSVM(nu=float(c))\n",
    "pred = model.fit_predict(X)\n",
    "idxs = []\n",
    "\n",
    "for i, e in enumerate(pred):\n",
    "    if e == -1 :\n",
    "        idxs.append(i)\n",
    "\n",
    "anomalies = group.filter(items = idxs, axis=0)\n",
    "anomalies = anomalies.reset_index(drop=True)\n",
    "print (\"***The table of anomalies***\")\n",
    "display(anomalies)"
   ]
  },
  {
   "cell_type": "code",
   "execution_count": 25,
   "id": "61e23186",
   "metadata": {},
   "outputs": [
    {
     "name": "stdout",
     "output_type": "stream",
     "text": [
      "the percentage of anomalies :  50.83 %\n"
     ]
    }
   ],
   "source": [
    "print('the percentage of anomalies : ', round((len(anomalies)/len(group))*100,2),'%')"
   ]
  },
  {
   "cell_type": "code",
   "execution_count": 28,
   "id": "e0c0d565",
   "metadata": {},
   "outputs": [
    {
     "name": "stdout",
     "output_type": "stream",
     "text": [
      "the number of meterIds :  2 \n",
      "\n",
      "locations with anomalies : \n",
      "\n",
      "India kalwa    92\n",
      "India BL       30\n",
      "Name: Location_, dtype: int64\n"
     ]
    }
   ],
   "source": [
    "print('the number of meterIds : ',anomalies.meterId.nunique(),'\\n')\n",
    "print('locations with anomalies : \\n')\n",
    "print(anomalies['Location_'].value_counts())"
   ]
  },
  {
   "cell_type": "code",
   "execution_count": 29,
   "id": "a3561149",
   "metadata": {},
   "outputs": [
    {
     "name": "stdout",
     "output_type": "stream",
     "text": [
      "locations with anomalies and their percentage : \n",
      "\n",
      "Index(['India kalwa', 'India BL'], dtype='object') \n",
      "\n",
      "[75.40983607 24.59016393]\n"
     ]
    }
   ],
   "source": [
    "print('locations with anomalies and their percentage : \\n')\n",
    "print(anomalies['Location_'].value_counts().index,'\\n')\n",
    "print(np.round(anomalies['Location_'].value_counts().to_numpy()*100,2)/len(anomalies))"
   ]
  },
  {
   "cell_type": "markdown",
   "id": "0bbfcb97",
   "metadata": {},
   "source": [
    "## 3- Anomaly detection using BDSCAN\n",
    "\n",
    "- This algorithm requires 2 parameters : min_samples and eps, that we set to min_samples = 2 and eps = 1 , using the previous results"
   ]
  },
  {
   "cell_type": "code",
   "execution_count": 30,
   "id": "7f6edc21",
   "metadata": {},
   "outputs": [
    {
     "data": {
      "text/html": [
       "<div>\n",
       "<style scoped>\n",
       "    .dataframe tbody tr th:only-of-type {\n",
       "        vertical-align: middle;\n",
       "    }\n",
       "\n",
       "    .dataframe tbody tr th {\n",
       "        vertical-align: top;\n",
       "    }\n",
       "\n",
       "    .dataframe thead th {\n",
       "        text-align: right;\n",
       "    }\n",
       "</style>\n",
       "<table border=\"1\" class=\"dataframe\">\n",
       "  <thead>\n",
       "    <tr style=\"text-align: right;\">\n",
       "      <th></th>\n",
       "      <th>date</th>\n",
       "      <th>meterId</th>\n",
       "      <th>Country</th>\n",
       "      <th>mediaType</th>\n",
       "      <th>data</th>\n",
       "      <th>unit</th>\n",
       "      <th>Location_</th>\n",
       "      <th>meterType</th>\n",
       "    </tr>\n",
       "  </thead>\n",
       "  <tbody>\n",
       "  </tbody>\n",
       "</table>\n",
       "</div>"
      ],
      "text/plain": [
       "Empty DataFrame\n",
       "Columns: [date, meterId, Country, mediaType, data, unit, Location_, meterType]\n",
       "Index: []"
      ]
     },
     "execution_count": 30,
     "metadata": {},
     "output_type": "execute_result"
    }
   ],
   "source": [
    "\n",
    "## Choose mediaType\n",
    "\n",
    "mediaType = 'Diesel'\n",
    "\n",
    "# Isolating data points that corrspond to the specified metiaType\n",
    "\n",
    "group = groups.get_group(mediaType)\n",
    "group = group.reset_index(drop=True)\n",
    "\n",
    "# calculating and ploting the Z-score\n",
    "\n",
    "X = group['data'].to_numpy()\n",
    "X = X.reshape(-1, 1)\n",
    "\n",
    "model = DBSCAN(eps = 1, min_samples = 2, metric = 'euclidean').fit(X)\n",
    "pred = model.fit_predict(X)\n",
    "idxs = []\n",
    "\n",
    "for i, e in enumerate(model.labels_):\n",
    "    if e == -1 :\n",
    "        idxs.append(i)\n",
    "\n",
    "anomalies = group.filter(items = idxs, axis=0)\n",
    "anomalies = anomalies.reset_index(drop=True)\n",
    "anomalies"
   ]
  },
  {
   "cell_type": "code",
   "execution_count": 31,
   "id": "a1c9cded",
   "metadata": {},
   "outputs": [
    {
     "name": "stdout",
     "output_type": "stream",
     "text": [
      "the percentage of anomalies :  0.0 %\n"
     ]
    }
   ],
   "source": [
    "print('the percentage of anomalies : ',round((len(anomalies)/len(group))*100,2),'%')"
   ]
  },
  {
   "cell_type": "code",
   "execution_count": 32,
   "id": "9cdc9831",
   "metadata": {
    "scrolled": true
   },
   "outputs": [
    {
     "name": "stdout",
     "output_type": "stream",
     "text": [
      "the number of meterIds :  0 \n",
      "\n",
      "locations with anomalies : \n",
      "\n",
      "Series([], Name: Location_, dtype: int64)\n"
     ]
    }
   ],
   "source": [
    "print('the number of meterIds : ',anomalies.meterId.nunique(),'\\n')\n",
    "print('locations with anomalies : \\n')\n",
    "print(anomalies['Location_'].value_counts())"
   ]
  },
  {
   "cell_type": "code",
   "execution_count": 33,
   "id": "a94b0081",
   "metadata": {},
   "outputs": [
    {
     "name": "stdout",
     "output_type": "stream",
     "text": [
      "locations with anomalies and their percentage : \n",
      "\n",
      "Index([], dtype='object') \n",
      "\n",
      "[]\n"
     ]
    }
   ],
   "source": [
    "print('locations with anomalies and their percentage : \\n')\n",
    "print(anomalies['Location_'].value_counts().index,'\\n')\n",
    "print(np.round(anomalies['Location_'].value_counts().to_numpy()*100,2)/len(anomalies))"
   ]
  }
 ],
 "metadata": {
  "kernelspec": {
   "display_name": "Python 3 (ipykernel)",
   "language": "python",
   "name": "python3"
  },
  "language_info": {
   "codemirror_mode": {
    "name": "ipython",
    "version": 3
   },
   "file_extension": ".py",
   "mimetype": "text/x-python",
   "name": "python",
   "nbconvert_exporter": "python",
   "pygments_lexer": "ipython3",
   "version": "3.10.4"
  }
 },
 "nbformat": 4,
 "nbformat_minor": 5
}
